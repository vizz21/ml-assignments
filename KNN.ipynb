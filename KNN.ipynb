{
 "cells": [
  {
   "cell_type": "code",
   "execution_count": 1,
   "id": "13486d1d",
   "metadata": {},
   "outputs": [],
   "source": [
    "X=[[10,9],[1,4],[10,1],[7,10],[3,10],[1,1]] #TRAITNING DATA\n",
    "#SWEETNESS AND CRUNCHINESS\n",
    "#APPLE,BACON,BANANA,CARROT,CELERY,CHEESE\n",
    "\n",
    "y=['fruit','protein','fruit','vegetable','vegatbale','protein']  #label\n",
    "\n",
    "from sklearn.neighbors import KNeighborsClassifier\n",
    "classifier = KNeighborsClassifier(n_neighbors=3)\n",
    "\n",
    "classifier.fit(X,y)\n",
    "\n",
    "tomato = \n"
   ]
  },
  {
   "cell_type": "code",
   "execution_count": null,
   "id": "de74eeff",
   "metadata": {},
   "outputs": [],
   "source": []
  }
 ],
 "metadata": {
  "kernelspec": {
   "display_name": "Python 3",
   "language": "python",
   "name": "python3"
  },
  "language_info": {
   "codemirror_mode": {
    "name": "ipython",
    "version": 3
   },
   "file_extension": ".py",
   "mimetype": "text/x-python",
   "name": "python",
   "nbconvert_exporter": "python",
   "pygments_lexer": "ipython3",
   "version": "3.8.8"
  }
 },
 "nbformat": 4,
 "nbformat_minor": 5
}
