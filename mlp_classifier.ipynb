{
 "cells": [
  {
   "cell_type": "code",
   "execution_count": 4,
   "id": "9ca85e56",
   "metadata": {},
   "outputs": [],
   "source": [
    "import numpy as np\n",
    "import pandas as pd\n",
    "from sklearn.preprocessing import StandardScaler\n",
    "from sklearn.neural_network import MLPClassifier\n",
    "from sklearn.model_selection import train_test_split\n",
    "from sklearn.metrics import accuracy_score,confusion_matrix,classification_report"
   ]
  },
  {
   "cell_type": "code",
   "execution_count": 5,
   "id": "4d2a696d",
   "metadata": {},
   "outputs": [],
   "source": [
    "\n",
    "df = pd.read_csv('C:/Users/User/Desktop/ml Assi/diabetes.csv')"
   ]
  },
  {
   "cell_type": "code",
   "execution_count": 6,
   "id": "b7f0e16d",
   "metadata": {},
   "outputs": [
    {
     "data": {
      "text/html": [
       "<div>\n",
       "<style scoped>\n",
       "    .dataframe tbody tr th:only-of-type {\n",
       "        vertical-align: middle;\n",
       "    }\n",
       "\n",
       "    .dataframe tbody tr th {\n",
       "        vertical-align: top;\n",
       "    }\n",
       "\n",
       "    .dataframe thead th {\n",
       "        text-align: right;\n",
       "    }\n",
       "</style>\n",
       "<table border=\"1\" class=\"dataframe\">\n",
       "  <thead>\n",
       "    <tr style=\"text-align: right;\">\n",
       "      <th></th>\n",
       "      <th>Pregnancies</th>\n",
       "      <th>Glucose</th>\n",
       "      <th>BloodPressure</th>\n",
       "      <th>SkinThickness</th>\n",
       "      <th>Insulin</th>\n",
       "      <th>BMI</th>\n",
       "      <th>DiabetesPedigreeFunction</th>\n",
       "      <th>Age</th>\n",
       "      <th>Outcome</th>\n",
       "    </tr>\n",
       "  </thead>\n",
       "  <tbody>\n",
       "    <tr>\n",
       "      <th>0</th>\n",
       "      <td>6</td>\n",
       "      <td>148</td>\n",
       "      <td>72</td>\n",
       "      <td>35</td>\n",
       "      <td>0</td>\n",
       "      <td>33.6</td>\n",
       "      <td>0.627</td>\n",
       "      <td>50</td>\n",
       "      <td>1</td>\n",
       "    </tr>\n",
       "    <tr>\n",
       "      <th>1</th>\n",
       "      <td>1</td>\n",
       "      <td>85</td>\n",
       "      <td>66</td>\n",
       "      <td>29</td>\n",
       "      <td>0</td>\n",
       "      <td>26.6</td>\n",
       "      <td>0.351</td>\n",
       "      <td>31</td>\n",
       "      <td>0</td>\n",
       "    </tr>\n",
       "    <tr>\n",
       "      <th>2</th>\n",
       "      <td>8</td>\n",
       "      <td>183</td>\n",
       "      <td>64</td>\n",
       "      <td>0</td>\n",
       "      <td>0</td>\n",
       "      <td>23.3</td>\n",
       "      <td>0.672</td>\n",
       "      <td>32</td>\n",
       "      <td>1</td>\n",
       "    </tr>\n",
       "    <tr>\n",
       "      <th>3</th>\n",
       "      <td>1</td>\n",
       "      <td>89</td>\n",
       "      <td>66</td>\n",
       "      <td>23</td>\n",
       "      <td>94</td>\n",
       "      <td>28.1</td>\n",
       "      <td>0.167</td>\n",
       "      <td>21</td>\n",
       "      <td>0</td>\n",
       "    </tr>\n",
       "    <tr>\n",
       "      <th>4</th>\n",
       "      <td>0</td>\n",
       "      <td>137</td>\n",
       "      <td>40</td>\n",
       "      <td>35</td>\n",
       "      <td>168</td>\n",
       "      <td>43.1</td>\n",
       "      <td>2.288</td>\n",
       "      <td>33</td>\n",
       "      <td>1</td>\n",
       "    </tr>\n",
       "  </tbody>\n",
       "</table>\n",
       "</div>"
      ],
      "text/plain": [
       "   Pregnancies  Glucose  BloodPressure  SkinThickness  Insulin   BMI  \\\n",
       "0            6      148             72             35        0  33.6   \n",
       "1            1       85             66             29        0  26.6   \n",
       "2            8      183             64              0        0  23.3   \n",
       "3            1       89             66             23       94  28.1   \n",
       "4            0      137             40             35      168  43.1   \n",
       "\n",
       "   DiabetesPedigreeFunction  Age  Outcome  \n",
       "0                     0.627   50        1  \n",
       "1                     0.351   31        0  \n",
       "2                     0.672   32        1  \n",
       "3                     0.167   21        0  \n",
       "4                     2.288   33        1  "
      ]
     },
     "execution_count": 6,
     "metadata": {},
     "output_type": "execute_result"
    }
   ],
   "source": [
    "df.head()"
   ]
  },
  {
   "cell_type": "code",
   "execution_count": 7,
   "id": "008abb7a",
   "metadata": {},
   "outputs": [
    {
     "data": {
      "text/html": [
       "<div>\n",
       "<style scoped>\n",
       "    .dataframe tbody tr th:only-of-type {\n",
       "        vertical-align: middle;\n",
       "    }\n",
       "\n",
       "    .dataframe tbody tr th {\n",
       "        vertical-align: top;\n",
       "    }\n",
       "\n",
       "    .dataframe thead th {\n",
       "        text-align: right;\n",
       "    }\n",
       "</style>\n",
       "<table border=\"1\" class=\"dataframe\">\n",
       "  <thead>\n",
       "    <tr style=\"text-align: right;\">\n",
       "      <th></th>\n",
       "      <th>Pregnancies</th>\n",
       "      <th>Glucose</th>\n",
       "      <th>BloodPressure</th>\n",
       "      <th>SkinThickness</th>\n",
       "      <th>Insulin</th>\n",
       "      <th>BMI</th>\n",
       "      <th>DiabetesPedigreeFunction</th>\n",
       "      <th>Age</th>\n",
       "    </tr>\n",
       "  </thead>\n",
       "  <tbody>\n",
       "    <tr>\n",
       "      <th>0</th>\n",
       "      <td>6</td>\n",
       "      <td>148</td>\n",
       "      <td>72</td>\n",
       "      <td>35</td>\n",
       "      <td>0</td>\n",
       "      <td>33.6</td>\n",
       "      <td>0.627</td>\n",
       "      <td>50</td>\n",
       "    </tr>\n",
       "    <tr>\n",
       "      <th>1</th>\n",
       "      <td>1</td>\n",
       "      <td>85</td>\n",
       "      <td>66</td>\n",
       "      <td>29</td>\n",
       "      <td>0</td>\n",
       "      <td>26.6</td>\n",
       "      <td>0.351</td>\n",
       "      <td>31</td>\n",
       "    </tr>\n",
       "    <tr>\n",
       "      <th>2</th>\n",
       "      <td>8</td>\n",
       "      <td>183</td>\n",
       "      <td>64</td>\n",
       "      <td>0</td>\n",
       "      <td>0</td>\n",
       "      <td>23.3</td>\n",
       "      <td>0.672</td>\n",
       "      <td>32</td>\n",
       "    </tr>\n",
       "    <tr>\n",
       "      <th>3</th>\n",
       "      <td>1</td>\n",
       "      <td>89</td>\n",
       "      <td>66</td>\n",
       "      <td>23</td>\n",
       "      <td>94</td>\n",
       "      <td>28.1</td>\n",
       "      <td>0.167</td>\n",
       "      <td>21</td>\n",
       "    </tr>\n",
       "    <tr>\n",
       "      <th>4</th>\n",
       "      <td>0</td>\n",
       "      <td>137</td>\n",
       "      <td>40</td>\n",
       "      <td>35</td>\n",
       "      <td>168</td>\n",
       "      <td>43.1</td>\n",
       "      <td>2.288</td>\n",
       "      <td>33</td>\n",
       "    </tr>\n",
       "    <tr>\n",
       "      <th>...</th>\n",
       "      <td>...</td>\n",
       "      <td>...</td>\n",
       "      <td>...</td>\n",
       "      <td>...</td>\n",
       "      <td>...</td>\n",
       "      <td>...</td>\n",
       "      <td>...</td>\n",
       "      <td>...</td>\n",
       "    </tr>\n",
       "    <tr>\n",
       "      <th>763</th>\n",
       "      <td>10</td>\n",
       "      <td>101</td>\n",
       "      <td>76</td>\n",
       "      <td>48</td>\n",
       "      <td>180</td>\n",
       "      <td>32.9</td>\n",
       "      <td>0.171</td>\n",
       "      <td>63</td>\n",
       "    </tr>\n",
       "    <tr>\n",
       "      <th>764</th>\n",
       "      <td>2</td>\n",
       "      <td>122</td>\n",
       "      <td>70</td>\n",
       "      <td>27</td>\n",
       "      <td>0</td>\n",
       "      <td>36.8</td>\n",
       "      <td>0.340</td>\n",
       "      <td>27</td>\n",
       "    </tr>\n",
       "    <tr>\n",
       "      <th>765</th>\n",
       "      <td>5</td>\n",
       "      <td>121</td>\n",
       "      <td>72</td>\n",
       "      <td>23</td>\n",
       "      <td>112</td>\n",
       "      <td>26.2</td>\n",
       "      <td>0.245</td>\n",
       "      <td>30</td>\n",
       "    </tr>\n",
       "    <tr>\n",
       "      <th>766</th>\n",
       "      <td>1</td>\n",
       "      <td>126</td>\n",
       "      <td>60</td>\n",
       "      <td>0</td>\n",
       "      <td>0</td>\n",
       "      <td>30.1</td>\n",
       "      <td>0.349</td>\n",
       "      <td>47</td>\n",
       "    </tr>\n",
       "    <tr>\n",
       "      <th>767</th>\n",
       "      <td>1</td>\n",
       "      <td>93</td>\n",
       "      <td>70</td>\n",
       "      <td>31</td>\n",
       "      <td>0</td>\n",
       "      <td>30.4</td>\n",
       "      <td>0.315</td>\n",
       "      <td>23</td>\n",
       "    </tr>\n",
       "  </tbody>\n",
       "</table>\n",
       "<p>768 rows × 8 columns</p>\n",
       "</div>"
      ],
      "text/plain": [
       "     Pregnancies  Glucose  BloodPressure  SkinThickness  Insulin   BMI  \\\n",
       "0              6      148             72             35        0  33.6   \n",
       "1              1       85             66             29        0  26.6   \n",
       "2              8      183             64              0        0  23.3   \n",
       "3              1       89             66             23       94  28.1   \n",
       "4              0      137             40             35      168  43.1   \n",
       "..           ...      ...            ...            ...      ...   ...   \n",
       "763           10      101             76             48      180  32.9   \n",
       "764            2      122             70             27        0  36.8   \n",
       "765            5      121             72             23      112  26.2   \n",
       "766            1      126             60              0        0  30.1   \n",
       "767            1       93             70             31        0  30.4   \n",
       "\n",
       "     DiabetesPedigreeFunction  Age  \n",
       "0                       0.627   50  \n",
       "1                       0.351   31  \n",
       "2                       0.672   32  \n",
       "3                       0.167   21  \n",
       "4                       2.288   33  \n",
       "..                        ...  ...  \n",
       "763                     0.171   63  \n",
       "764                     0.340   27  \n",
       "765                     0.245   30  \n",
       "766                     0.349   47  \n",
       "767                     0.315   23  \n",
       "\n",
       "[768 rows x 8 columns]"
      ]
     },
     "execution_count": 7,
     "metadata": {},
     "output_type": "execute_result"
    }
   ],
   "source": [
    "X=df.iloc[:,0:8]\n",
    "X"
   ]
  },
  {
   "cell_type": "code",
   "execution_count": 8,
   "id": "1ddc044d",
   "metadata": {},
   "outputs": [],
   "source": [
    "y=df.Outcome"
   ]
  },
  {
   "cell_type": "code",
   "execution_count": 9,
   "id": "54531f8e",
   "metadata": {},
   "outputs": [
    {
     "name": "stdout",
     "output_type": "stream",
     "text": [
      "X shape : (768, 8)\n",
      "y shape : (768,)\n"
     ]
    }
   ],
   "source": [
    "print('X shape :',X.shape)\n",
    "print('y shape :',y.shape)"
   ]
  },
  {
   "cell_type": "code",
   "execution_count": 10,
   "id": "5b9456c2",
   "metadata": {},
   "outputs": [],
   "source": [
    "#standardization\n",
    "scaler = StandardScaler()\n",
    "X_std = scaler.fit_transform(X)\n"
   ]
  },
  {
   "cell_type": "code",
   "execution_count": 11,
   "id": "a81b85b1",
   "metadata": {},
   "outputs": [],
   "source": [
    "X_train,X_test,y_train,y_test=train_test_split(X_std,y,test_size=0.3,random_state=0)"
   ]
  },
  {
   "cell_type": "code",
   "execution_count": 12,
   "id": "25e04395",
   "metadata": {},
   "outputs": [
    {
     "name": "stdout",
     "output_type": "stream",
     "text": [
      "X_train shape (537, 8)\n",
      "y_train shape (537,)\n",
      "\n",
      "X_test shape (231, 8)\n",
      "y_test= shape (231,)\n"
     ]
    }
   ],
   "source": [
    "print('X_train shape',X_train.shape)\n",
    "print('y_train shape',y_train.shape)\n",
    "\n",
    "print()\n",
    "print('X_test shape',X_test.shape)\n",
    "print('y_test= shape',y_test.shape)"
   ]
  },
  {
   "cell_type": "code",
   "execution_count": 13,
   "id": "59350511",
   "metadata": {},
   "outputs": [
    {
     "data": {
      "text/plain": [
       "MLPClassifier(hidden_layer_sizes=50, verbose=True)"
      ]
     },
     "execution_count": 13,
     "metadata": {},
     "output_type": "execute_result"
    }
   ],
   "source": [
    "mlp=MLPClassifier(hidden_layer_sizes=(50),activation='relu',max_iter=200,verbose=True)\n",
    "mlp"
   ]
  },
  {
   "cell_type": "code",
   "execution_count": 14,
   "id": "7ad646e8",
   "metadata": {},
   "outputs": [
    {
     "name": "stdout",
     "output_type": "stream",
     "text": [
      "Iteration 1, loss = 0.77230937\n",
      "Iteration 2, loss = 0.75485031\n",
      "Iteration 3, loss = 0.73831102\n",
      "Iteration 4, loss = 0.72304479\n",
      "Iteration 5, loss = 0.70918175\n",
      "Iteration 6, loss = 0.69531059\n",
      "Iteration 7, loss = 0.68291283\n",
      "Iteration 8, loss = 0.67081971\n",
      "Iteration 9, loss = 0.65977596\n",
      "Iteration 10, loss = 0.64884331\n",
      "Iteration 11, loss = 0.63887650\n",
      "Iteration 12, loss = 0.62944091\n",
      "Iteration 13, loss = 0.62030336\n",
      "Iteration 14, loss = 0.61205187\n",
      "Iteration 15, loss = 0.60378220\n",
      "Iteration 16, loss = 0.59625691\n",
      "Iteration 17, loss = 0.58888177\n",
      "Iteration 18, loss = 0.58173458\n",
      "Iteration 19, loss = 0.57515732\n",
      "Iteration 20, loss = 0.56874075\n",
      "Iteration 21, loss = 0.56284101\n",
      "Iteration 22, loss = 0.55673713\n",
      "Iteration 23, loss = 0.55125975\n",
      "Iteration 24, loss = 0.54601816\n",
      "Iteration 25, loss = 0.54093568\n",
      "Iteration 26, loss = 0.53618374\n",
      "Iteration 27, loss = 0.53159204\n",
      "Iteration 28, loss = 0.52718109\n",
      "Iteration 29, loss = 0.52300581\n",
      "Iteration 30, loss = 0.51920654\n",
      "Iteration 31, loss = 0.51530399\n",
      "Iteration 32, loss = 0.51162482\n",
      "Iteration 33, loss = 0.50811986\n",
      "Iteration 34, loss = 0.50497726\n",
      "Iteration 35, loss = 0.50172810\n",
      "Iteration 36, loss = 0.49889441\n",
      "Iteration 37, loss = 0.49611319\n",
      "Iteration 38, loss = 0.49332018\n",
      "Iteration 39, loss = 0.49087898\n",
      "Iteration 40, loss = 0.48840336\n",
      "Iteration 41, loss = 0.48606315\n",
      "Iteration 42, loss = 0.48393420\n",
      "Iteration 43, loss = 0.48181952\n",
      "Iteration 44, loss = 0.47985277\n",
      "Iteration 45, loss = 0.47807515\n",
      "Iteration 46, loss = 0.47613664\n",
      "Iteration 47, loss = 0.47458587\n",
      "Iteration 48, loss = 0.47294836\n",
      "Iteration 49, loss = 0.47128622\n",
      "Iteration 50, loss = 0.46994019\n",
      "Iteration 51, loss = 0.46845037\n",
      "Iteration 52, loss = 0.46707083\n",
      "Iteration 53, loss = 0.46582392\n",
      "Iteration 54, loss = 0.46452780\n",
      "Iteration 55, loss = 0.46329025\n",
      "Iteration 56, loss = 0.46212264\n",
      "Iteration 57, loss = 0.46099669\n",
      "Iteration 58, loss = 0.46006172\n",
      "Iteration 59, loss = 0.45896006\n",
      "Iteration 60, loss = 0.45801667\n",
      "Iteration 61, loss = 0.45702219\n",
      "Iteration 62, loss = 0.45613670\n",
      "Iteration 63, loss = 0.45531856\n",
      "Iteration 64, loss = 0.45450934\n",
      "Iteration 65, loss = 0.45371448\n",
      "Iteration 66, loss = 0.45294956\n",
      "Iteration 67, loss = 0.45217274\n",
      "Iteration 68, loss = 0.45144998\n",
      "Iteration 69, loss = 0.45074546\n",
      "Iteration 70, loss = 0.45005224\n",
      "Iteration 71, loss = 0.44954798\n",
      "Iteration 72, loss = 0.44872710\n",
      "Iteration 73, loss = 0.44811246\n",
      "Iteration 74, loss = 0.44748892\n",
      "Iteration 75, loss = 0.44697030\n",
      "Iteration 76, loss = 0.44630665\n",
      "Iteration 77, loss = 0.44581081\n",
      "Iteration 78, loss = 0.44518116\n",
      "Iteration 79, loss = 0.44461726\n",
      "Iteration 80, loss = 0.44408109\n",
      "Iteration 81, loss = 0.44362116\n",
      "Iteration 82, loss = 0.44315548\n",
      "Iteration 83, loss = 0.44250930\n",
      "Iteration 84, loss = 0.44209717\n",
      "Iteration 85, loss = 0.44155874\n",
      "Iteration 86, loss = 0.44107167\n",
      "Iteration 87, loss = 0.44052976\n",
      "Iteration 88, loss = 0.44008910\n",
      "Iteration 89, loss = 0.43962514\n",
      "Iteration 90, loss = 0.43915577\n",
      "Iteration 91, loss = 0.43869335\n",
      "Iteration 92, loss = 0.43827646\n",
      "Iteration 93, loss = 0.43776943\n",
      "Iteration 94, loss = 0.43742083\n",
      "Iteration 95, loss = 0.43707343\n",
      "Iteration 96, loss = 0.43652727\n",
      "Iteration 97, loss = 0.43609912\n",
      "Iteration 98, loss = 0.43575318\n",
      "Iteration 99, loss = 0.43527898\n",
      "Iteration 100, loss = 0.43495804\n",
      "Iteration 101, loss = 0.43450133\n",
      "Iteration 102, loss = 0.43408847\n",
      "Iteration 103, loss = 0.43370950\n",
      "Iteration 104, loss = 0.43328690\n",
      "Iteration 105, loss = 0.43297232\n",
      "Iteration 106, loss = 0.43262009\n",
      "Iteration 107, loss = 0.43222087\n",
      "Iteration 108, loss = 0.43188705\n",
      "Iteration 109, loss = 0.43152716\n",
      "Iteration 110, loss = 0.43120769\n",
      "Iteration 111, loss = 0.43085900\n",
      "Iteration 112, loss = 0.43046288\n",
      "Iteration 113, loss = 0.43022760\n",
      "Iteration 114, loss = 0.42984383\n",
      "Iteration 115, loss = 0.42944721\n",
      "Iteration 116, loss = 0.42917538\n",
      "Iteration 117, loss = 0.42887311\n",
      "Iteration 118, loss = 0.42844504\n",
      "Iteration 119, loss = 0.42813565\n",
      "Iteration 120, loss = 0.42779203\n",
      "Iteration 121, loss = 0.42749422\n",
      "Iteration 122, loss = 0.42719099\n",
      "Iteration 123, loss = 0.42681519\n",
      "Iteration 124, loss = 0.42647799\n",
      "Iteration 125, loss = 0.42622791\n",
      "Iteration 126, loss = 0.42582669\n",
      "Iteration 127, loss = 0.42556367\n",
      "Iteration 128, loss = 0.42518164\n",
      "Iteration 129, loss = 0.42486447\n",
      "Iteration 130, loss = 0.42460095\n",
      "Iteration 131, loss = 0.42426738\n",
      "Iteration 132, loss = 0.42383991\n",
      "Iteration 133, loss = 0.42362145\n",
      "Iteration 134, loss = 0.42326316\n",
      "Iteration 135, loss = 0.42297372\n",
      "Iteration 136, loss = 0.42275592\n",
      "Iteration 137, loss = 0.42231279\n",
      "Iteration 138, loss = 0.42197900\n",
      "Iteration 139, loss = 0.42169997\n",
      "Iteration 140, loss = 0.42138964\n",
      "Iteration 141, loss = 0.42101220\n",
      "Iteration 142, loss = 0.42072863\n",
      "Iteration 143, loss = 0.42048891\n",
      "Iteration 144, loss = 0.42018120\n",
      "Iteration 145, loss = 0.41979378\n",
      "Iteration 146, loss = 0.41954072\n",
      "Iteration 147, loss = 0.41912635\n",
      "Iteration 148, loss = 0.41882616\n",
      "Iteration 149, loss = 0.41853092\n",
      "Iteration 150, loss = 0.41818465\n",
      "Iteration 151, loss = 0.41794703\n",
      "Iteration 152, loss = 0.41759585\n",
      "Iteration 153, loss = 0.41736398\n",
      "Iteration 154, loss = 0.41696951\n",
      "Iteration 155, loss = 0.41673237\n",
      "Iteration 156, loss = 0.41641788\n",
      "Iteration 157, loss = 0.41607982\n",
      "Iteration 158, loss = 0.41579838\n",
      "Iteration 159, loss = 0.41552929\n",
      "Iteration 160, loss = 0.41520006\n",
      "Iteration 161, loss = 0.41495777\n",
      "Iteration 162, loss = 0.41464718\n",
      "Iteration 163, loss = 0.41442777\n",
      "Iteration 164, loss = 0.41413455\n",
      "Iteration 165, loss = 0.41384450\n",
      "Iteration 166, loss = 0.41350749\n",
      "Iteration 167, loss = 0.41324233\n",
      "Iteration 168, loss = 0.41302648\n",
      "Iteration 169, loss = 0.41270591\n",
      "Iteration 170, loss = 0.41241043\n",
      "Iteration 171, loss = 0.41210176\n",
      "Iteration 172, loss = 0.41196994\n",
      "Iteration 173, loss = 0.41161508\n",
      "Iteration 174, loss = 0.41137162\n",
      "Iteration 175, loss = 0.41106129\n",
      "Iteration 176, loss = 0.41080293\n",
      "Iteration 177, loss = 0.41049454\n",
      "Iteration 178, loss = 0.41027335\n",
      "Iteration 179, loss = 0.40995473\n",
      "Iteration 180, loss = 0.40960047\n",
      "Iteration 181, loss = 0.40937498\n",
      "Iteration 182, loss = 0.40914713\n",
      "Iteration 183, loss = 0.40881299\n",
      "Iteration 184, loss = 0.40861215\n",
      "Iteration 185, loss = 0.40826392\n",
      "Iteration 186, loss = 0.40800540\n",
      "Iteration 187, loss = 0.40771467\n",
      "Iteration 188, loss = 0.40745056\n",
      "Iteration 189, loss = 0.40728143\n",
      "Iteration 190, loss = 0.40695735\n",
      "Iteration 191, loss = 0.40667617\n",
      "Iteration 192, loss = 0.40638880\n",
      "Iteration 193, loss = 0.40610439\n",
      "Iteration 194, loss = 0.40588889\n",
      "Iteration 195, loss = 0.40556583\n",
      "Iteration 196, loss = 0.40535472\n",
      "Iteration 197, loss = 0.40506963\n",
      "Iteration 198, loss = 0.40488166\n",
      "Iteration 199, loss = 0.40451888\n",
      "Iteration 200, loss = 0.40439957\n"
     ]
    },
    {
     "name": "stderr",
     "output_type": "stream",
     "text": [
      "C:\\Users\\User\\anaconda3\\envs\\mlcl\\lib\\site-packages\\sklearn\\neural_network\\_multilayer_perceptron.py:692: ConvergenceWarning: Stochastic Optimizer: Maximum iterations (200) reached and the optimization hasn't converged yet.\n",
      "  warnings.warn(\n"
     ]
    },
    {
     "data": {
      "text/plain": [
       "MLPClassifier(hidden_layer_sizes=50, verbose=True)"
      ]
     },
     "execution_count": 14,
     "metadata": {},
     "output_type": "execute_result"
    }
   ],
   "source": [
    "mlp.fit(X_train,y_train)"
   ]
  },
  {
   "cell_type": "code",
   "execution_count": 15,
   "id": "2609a73e",
   "metadata": {},
   "outputs": [
    {
     "name": "stdout",
     "output_type": "stream",
     "text": [
      "81.3780260707635\n"
     ]
    }
   ],
   "source": [
    "print(mlp.score(X_train,y_train)*100)"
   ]
  },
  {
   "cell_type": "code",
   "execution_count": 16,
   "id": "77278529",
   "metadata": {},
   "outputs": [
    {
     "name": "stdout",
     "output_type": "stream",
     "text": [
      "77.05627705627705\n"
     ]
    }
   ],
   "source": [
    "print(mlp.score(X_test,y_test)*100)"
   ]
  },
  {
   "cell_type": "code",
   "execution_count": 17,
   "id": "32da225a",
   "metadata": {},
   "outputs": [
    {
     "data": {
      "text/plain": [
       "array([1, 0, 0, 1, 0, 0, 1, 1, 0, 0, 1, 1, 0, 0, 0, 0, 1, 0, 0, 0, 1, 0,\n",
       "       0, 0, 0, 0, 0, 1, 0, 0, 0, 0, 0, 1, 0, 1, 0, 0, 0, 1, 0, 0, 0, 1,\n",
       "       1, 0, 0, 0, 0, 0, 0, 0, 1, 1, 0, 0, 0, 0, 0, 0, 1, 0, 0, 1, 1, 1,\n",
       "       1, 0, 0, 0, 0, 0, 0, 1, 1, 0, 0, 1, 0, 0, 0, 0, 0, 0, 0, 0, 0, 1,\n",
       "       1, 0, 0, 0, 0, 0, 1, 0, 1, 1, 1, 0, 0, 0, 0, 0, 1, 0, 0, 0, 0, 1,\n",
       "       0, 0, 1, 1, 1, 1, 0, 1, 0, 1, 0, 0, 0, 0, 0, 0, 0, 1, 1, 0, 0, 0,\n",
       "       0, 1, 1, 1, 0, 0, 1, 0, 0, 1, 0, 0, 0, 0, 0, 0, 0, 0, 0, 1, 0, 0,\n",
       "       1, 0, 1, 0, 0, 1, 1, 1, 0, 0, 1, 0, 0, 0, 0, 0, 0, 1, 0, 0, 1, 0,\n",
       "       0, 0, 0, 0, 0, 1, 0, 1, 0, 0, 1, 0, 0, 0, 0, 0, 0, 0, 0, 1, 1, 1,\n",
       "       0, 0, 0, 0, 0, 0, 0, 0, 0, 0, 0, 0, 0, 0, 0, 0, 0, 0, 0, 0, 1, 0,\n",
       "       0, 0, 1, 1, 1, 1, 0, 0, 0, 0, 0], dtype=int64)"
      ]
     },
     "execution_count": 17,
     "metadata": {},
     "output_type": "execute_result"
    }
   ],
   "source": [
    "y_pred=mlp.predict(X_test)\n",
    "y_pred"
   ]
  },
  {
   "cell_type": "code",
   "execution_count": 18,
   "id": "8ff0abbe",
   "metadata": {},
   "outputs": [
    {
     "data": {
      "text/plain": [
       "array([1, 0, 0, 1, 0, 0, 1, 1, 0, 0, 1, 1, 0, 0, 0, 0, 1, 0, 0, 0, 1, 1,\n",
       "       0, 0, 0, 0, 0, 0, 0, 0, 0, 0, 0, 0, 0, 1, 1, 0, 0, 0, 0, 0, 0, 1,\n",
       "       1, 0, 0, 1, 1, 1, 0, 0, 1, 0, 0, 0, 0, 1, 1, 1, 1, 0, 0, 1, 1, 1,\n",
       "       1, 0, 0, 0, 0, 0, 0, 0, 1, 0, 0, 0, 0, 0, 0, 0, 0, 0, 0, 0, 1, 0,\n",
       "       1, 0, 0, 0, 0, 0, 0, 0, 1, 0, 1, 1, 0, 0, 0, 0, 0, 1, 0, 0, 0, 1,\n",
       "       0, 1, 1, 1, 1, 1, 0, 0, 0, 1, 0, 0, 0, 0, 0, 0, 0, 1, 0, 0, 0, 0,\n",
       "       0, 1, 0, 1, 0, 1, 1, 0, 0, 0, 0, 0, 1, 0, 0, 0, 0, 1, 0, 1, 0, 0,\n",
       "       1, 0, 0, 0, 1, 1, 1, 1, 0, 0, 0, 1, 0, 0, 0, 0, 0, 0, 1, 1, 0, 0,\n",
       "       0, 0, 0, 0, 1, 1, 0, 1, 1, 0, 1, 1, 1, 0, 0, 0, 0, 0, 0, 1, 1, 0,\n",
       "       0, 0, 0, 0, 0, 0, 1, 0, 0, 0, 1, 0, 1, 0, 0, 0, 0, 0, 1, 1, 0, 0,\n",
       "       1, 0, 1, 1, 0, 0, 1, 1, 0, 0, 0], dtype=int64)"
      ]
     },
     "execution_count": 18,
     "metadata": {},
     "output_type": "execute_result"
    }
   ],
   "source": [
    "y_test.ravel()"
   ]
  },
  {
   "cell_type": "code",
   "execution_count": 19,
   "id": "43357958",
   "metadata": {},
   "outputs": [
    {
     "name": "stdout",
     "output_type": "stream",
     "text": [
      "[[135  22]\n",
      " [ 31  43]]\n"
     ]
    }
   ],
   "source": [
    "cm=confusion_matrix(y_test,y_pred)\n",
    "print(cm)"
   ]
  },
  {
   "cell_type": "code",
   "execution_count": 20,
   "id": "f5149a3d",
   "metadata": {},
   "outputs": [
    {
     "name": "stdout",
     "output_type": "stream",
     "text": [
      "              precision    recall  f1-score   support\n",
      "\n",
      "           0       0.81      0.86      0.84       157\n",
      "           1       0.66      0.58      0.62        74\n",
      "\n",
      "    accuracy                           0.77       231\n",
      "   macro avg       0.74      0.72      0.73       231\n",
      "weighted avg       0.76      0.77      0.77       231\n",
      "\n"
     ]
    }
   ],
   "source": [
    "cr=classification_report(y_test,y_pred)\n",
    "print(cr)"
   ]
  },
  {
   "cell_type": "code",
   "execution_count": 21,
   "id": "70b9fcb1",
   "metadata": {},
   "outputs": [
    {
     "data": {
      "text/html": [
       "<div>\n",
       "<style scoped>\n",
       "    .dataframe tbody tr th:only-of-type {\n",
       "        vertical-align: middle;\n",
       "    }\n",
       "\n",
       "    .dataframe tbody tr th {\n",
       "        vertical-align: top;\n",
       "    }\n",
       "\n",
       "    .dataframe thead th {\n",
       "        text-align: right;\n",
       "    }\n",
       "</style>\n",
       "<table border=\"1\" class=\"dataframe\">\n",
       "  <thead>\n",
       "    <tr style=\"text-align: right;\">\n",
       "      <th></th>\n",
       "      <th>Pregnancies</th>\n",
       "      <th>Glucose</th>\n",
       "      <th>BloodPressure</th>\n",
       "      <th>SkinThickness</th>\n",
       "      <th>Insulin</th>\n",
       "      <th>BMI</th>\n",
       "      <th>DiabetesPedigreeFunction</th>\n",
       "      <th>Age</th>\n",
       "      <th>Outcome</th>\n",
       "    </tr>\n",
       "  </thead>\n",
       "  <tbody>\n",
       "    <tr>\n",
       "      <th>763</th>\n",
       "      <td>10</td>\n",
       "      <td>101</td>\n",
       "      <td>76</td>\n",
       "      <td>48</td>\n",
       "      <td>180</td>\n",
       "      <td>32.9</td>\n",
       "      <td>0.171</td>\n",
       "      <td>63</td>\n",
       "      <td>0</td>\n",
       "    </tr>\n",
       "    <tr>\n",
       "      <th>764</th>\n",
       "      <td>2</td>\n",
       "      <td>122</td>\n",
       "      <td>70</td>\n",
       "      <td>27</td>\n",
       "      <td>0</td>\n",
       "      <td>36.8</td>\n",
       "      <td>0.340</td>\n",
       "      <td>27</td>\n",
       "      <td>0</td>\n",
       "    </tr>\n",
       "    <tr>\n",
       "      <th>765</th>\n",
       "      <td>5</td>\n",
       "      <td>121</td>\n",
       "      <td>72</td>\n",
       "      <td>23</td>\n",
       "      <td>112</td>\n",
       "      <td>26.2</td>\n",
       "      <td>0.245</td>\n",
       "      <td>30</td>\n",
       "      <td>0</td>\n",
       "    </tr>\n",
       "    <tr>\n",
       "      <th>766</th>\n",
       "      <td>1</td>\n",
       "      <td>126</td>\n",
       "      <td>60</td>\n",
       "      <td>0</td>\n",
       "      <td>0</td>\n",
       "      <td>30.1</td>\n",
       "      <td>0.349</td>\n",
       "      <td>47</td>\n",
       "      <td>1</td>\n",
       "    </tr>\n",
       "    <tr>\n",
       "      <th>767</th>\n",
       "      <td>1</td>\n",
       "      <td>93</td>\n",
       "      <td>70</td>\n",
       "      <td>31</td>\n",
       "      <td>0</td>\n",
       "      <td>30.4</td>\n",
       "      <td>0.315</td>\n",
       "      <td>23</td>\n",
       "      <td>0</td>\n",
       "    </tr>\n",
       "  </tbody>\n",
       "</table>\n",
       "</div>"
      ],
      "text/plain": [
       "     Pregnancies  Glucose  BloodPressure  SkinThickness  Insulin   BMI  \\\n",
       "763           10      101             76             48      180  32.9   \n",
       "764            2      122             70             27        0  36.8   \n",
       "765            5      121             72             23      112  26.2   \n",
       "766            1      126             60              0        0  30.1   \n",
       "767            1       93             70             31        0  30.4   \n",
       "\n",
       "     DiabetesPedigreeFunction  Age  Outcome  \n",
       "763                     0.171   63        0  \n",
       "764                     0.340   27        0  \n",
       "765                     0.245   30        0  \n",
       "766                     0.349   47        1  \n",
       "767                     0.315   23        0  "
      ]
     },
     "execution_count": 21,
     "metadata": {},
     "output_type": "execute_result"
    }
   ],
   "source": [
    "df.tail()"
   ]
  },
  {
   "cell_type": "code",
   "execution_count": 22,
   "id": "84637419",
   "metadata": {},
   "outputs": [
    {
     "name": "stdout",
     "output_type": "stream",
     "text": [
      "Shape of sample: (8,)\n",
      "Shape of X_test: (231, 8)\n"
     ]
    }
   ],
   "source": [
    "sample=np.array([5,121,72,23,112,26.2,0.245,30])\n",
    "print('Shape of sample:',sample.shape)\n",
    "print('Shape of X_test:',X_test.shape)"
   ]
  },
  {
   "cell_type": "code",
   "execution_count": 23,
   "id": "5be13c75",
   "metadata": {},
   "outputs": [
    {
     "name": "stdout",
     "output_type": "stream",
     "text": [
      "Shape of sample: (1, 8)\n"
     ]
    }
   ],
   "source": [
    "sample=np.expand_dims(sample,0)\n",
    "print('Shape of sample:',sample.shape)"
   ]
  },
  {
   "cell_type": "code",
   "execution_count": 24,
   "id": "4b2d59c0",
   "metadata": {},
   "outputs": [
    {
     "data": {
      "text/plain": [
       "array([1], dtype=int64)"
      ]
     },
     "execution_count": 24,
     "metadata": {},
     "output_type": "execute_result"
    }
   ],
   "source": [
    "mlp.predict(sample)"
   ]
  },
  {
   "cell_type": "code",
   "execution_count": null,
   "id": "dee8678c",
   "metadata": {},
   "outputs": [],
   "source": []
  }
 ],
 "metadata": {
  "kernelspec": {
   "display_name": "Python 3 (ipykernel)",
   "language": "python",
   "name": "python3"
  },
  "language_info": {
   "codemirror_mode": {
    "name": "ipython",
    "version": 3
   },
   "file_extension": ".py",
   "mimetype": "text/x-python",
   "name": "python",
   "nbconvert_exporter": "python",
   "pygments_lexer": "ipython3",
   "version": "3.9.7"
  }
 },
 "nbformat": 4,
 "nbformat_minor": 5
}
