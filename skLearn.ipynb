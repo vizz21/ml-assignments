{
 "cells": [
  {
   "cell_type": "code",
   "execution_count": 1,
   "id": "9aa07fcc",
   "metadata": {},
   "outputs": [],
   "source": [
    "\n",
    "\n",
    "import numpy as np\n",
    "import pandas as pd\n",
    "\n",
    "from sklearn import preprocessing,datasets\n",
    "from sklearn.model_selection import train_test_split\n",
    "from sklearn.metrics import accuracy_score\n",
    "from sklearn.preprocessing import StandardScaler,Normalizer,LabelEncoder\n"
   ]
  },
  {
   "cell_type": "code",
   "execution_count": 8,
   "id": "8cffb83f",
   "metadata": {},
   "outputs": [],
   "source": [
    "X = np.random.random((10,5))"
   ]
  },
  {
   "cell_type": "code",
   "execution_count": 9,
   "id": "8ee6559a",
   "metadata": {},
   "outputs": [
    {
     "data": {
      "text/plain": [
       "array([[0.60481675, 0.39797483, 0.24091921, 0.30931902, 0.3207316 ],\n",
       "       [0.84545861, 0.21360624, 0.2459888 , 0.03015406, 0.59655656],\n",
       "       [0.18065889, 0.98155773, 0.69182144, 0.44295654, 0.47632224],\n",
       "       [0.49085039, 0.57866613, 0.17606308, 0.94600707, 0.7823973 ],\n",
       "       [0.25613993, 0.67742899, 0.68659856, 0.35930381, 0.2536781 ],\n",
       "       [0.40094393, 0.00733579, 0.65346938, 0.38713954, 0.29778431],\n",
       "       [0.51644532, 0.05141262, 0.35271057, 0.1258673 , 0.80854534],\n",
       "       [0.46342229, 0.51702829, 0.69609509, 0.81419557, 0.09027597],\n",
       "       [0.70050258, 0.95354671, 0.51434973, 0.25854769, 0.06432145],\n",
       "       [0.39535428, 0.37663329, 0.15302514, 0.75344902, 0.22218214]])"
      ]
     },
     "execution_count": 9,
     "metadata": {},
     "output_type": "execute_result"
    }
   ],
   "source": [
    "X"
   ]
  },
  {
   "cell_type": "code",
   "execution_count": 6,
   "id": "7e7441ce",
   "metadata": {},
   "outputs": [],
   "source": [
    "y=np.array(['M','M','F','F','M','F','M','M','F','F'])"
   ]
  },
  {
   "cell_type": "code",
   "execution_count": 7,
   "id": "4fcbdec5",
   "metadata": {},
   "outputs": [
    {
     "name": "stdout",
     "output_type": "stream",
     "text": [
      "(10, 5)\n",
      "(10,)\n"
     ]
    }
   ],
   "source": [
    "print(x.shape)\n",
    "print(y.shape)"
   ]
  },
  {
   "cell_type": "code",
   "execution_count": null,
   "id": "02c23629",
   "metadata": {},
   "outputs": [],
   "source": [
    "X_train,X_test,Y_train,Y_test = train_test_split(X,y,test_size=0.3,random_state=0)"
   ]
  },
  {
   "cell_type": "code",
   "execution_count": 10,
   "id": "d30eb443",
   "metadata": {},
   "outputs": [
    {
     "name": "stdout",
     "output_type": "stream",
     "text": [
      "[[0.37447858 0.41533535 0.01026744 0.86689279 0.00459985]\n",
      " [0.90589759 0.24260631 0.48245941 0.44665253 0.88011908]\n",
      " [0.00945873 0.62768784 0.643484   0.19825605 0.24258206]\n",
      " [0.20077217 0.15549231 0.43022923 0.96162193 0.54566386]\n",
      " [0.23009949 0.27816963 0.38184111 0.63248919 0.44335375]\n",
      " [0.33636986 0.78541845 0.20298847 0.08188214 0.25247758]\n",
      " [0.01605069 0.15354915 0.0493207  0.98150704 0.71345353]\n",
      " [0.21684354 0.38367447 0.19276196 0.7995327  0.69577043]\n",
      " [0.63745015 0.13255629 0.04432065 0.47975982 0.48300442]\n",
      " [0.3659691  0.73225565 0.411531   0.2604324  0.98620432]]\n",
      "(10, 5)\n",
      "(10,)\n",
      "8.881784197001253e-17 1.0\n",
      "['M' 'M' 'F' 'F' 'M' 'F' 'M' 'M' 'F' 'F']\n",
      "[0 1 1 1 0 1 0]\n",
      "MLPClassifier()\n",
      "(7, 5) (7,)\n",
      "1.0\n",
      "0.3333333333333333\n",
      "[0 1 1]\n",
      "[[1 1]\n",
      " [0 1]]\n",
      "              precision    recall  f1-score   support\n",
      "\n",
      "           0       1.00      0.50      0.67         2\n",
      "           1       0.50      1.00      0.67         1\n",
      "\n",
      "    accuracy                           0.67         3\n",
      "   macro avg       0.75      0.75      0.67         3\n",
      "weighted avg       0.83      0.67      0.67         3\n",
      "\n"
     ]
    },
    {
     "name": "stderr",
     "output_type": "stream",
     "text": [
      "C:\\Users\\User\\anaconda3\\lib\\site-packages\\sklearn\\neural_network\\_multilayer_perceptron.py:614: ConvergenceWarning: Stochastic Optimizer: Maximum iterations (200) reached and the optimization hasn't converged yet.\n",
      "  warnings.warn(\n"
     ]
    }
   ],
   "source": [
    "\n",
    "import numpy as np\n",
    "import pandas as pd\n",
    "\n",
    "from sklearn import preprocessing,datasets\n",
    "from sklearn.model_selection import train_test_split\n",
    "from sklearn.metrics import accuracy_score,confusion_matrix\n",
    "from sklearn.preprocessing import StandardScaler,Normalizer,LabelEncoder\n",
    "\n",
    "#Dataset Creation\n",
    "X = np.random.random((10,5))\n",
    "print(X)\n",
    "\n",
    "y=np.array(['M','M','F','F','M','F','M','M','F','F'])\n",
    "\n",
    "print(X.shape)\n",
    "print(y.shape)\n",
    "\n",
    "X_train,X_test,Y_train,Y_test = train_test_split(X,y,test_size=0.3,random_state=0)\n",
    "\n",
    "\n",
    "#preprocessing\n",
    "# 1.Standardization\n",
    "\n",
    "scaler= StandardScaler()  #object of StandardScaler\n",
    "\n",
    "Xtrain_std=scaler.fit_transform(X_train)\n",
    "Xtest_std=scaler.transform(X_test)\n",
    "\n",
    "print(Xtrain_std.mean(),Xtrain_std.std())\n",
    "\n",
    "from sklearn.preprocessing import LabelEncoder\n",
    "enc = LabelEncoder()   #obj of labelEncoder\n",
    "\n",
    "y_enc=enc.fit_transform(Y_train)\n",
    "yt_enc=enc.fit_transform(Y_test)\n",
    "print(y)\n",
    "print(y_enc)\n",
    "\n",
    "#Supervised Learning\n",
    "#1.Linear Regression\n",
    "from sklearn.linear_model import LinearRegression\n",
    "from sklearn.svm import SVC,SVR\n",
    "from sklearn.naive_bayes import GaussianNB\n",
    "from sklearn.neighbors import KNeighborsClassifier\n",
    "from sklearn.neural_network import MLPClassifier,MLPRegressor\n",
    "\n",
    "\n",
    "#Unsupervised \n",
    "from sklearn.cluster import KMeans\n",
    "from sklearn.decomposition import PCA\n",
    "\n",
    "\n",
    "#model fitting\n",
    "mlp = MLPClassifier()\n",
    "print(mlp)\n",
    "y_enc\n",
    "print(Xtrain_std.shape,y_enc.shape)\n",
    "mlp.fit(Xtrain_std,y_enc)\n",
    "\n",
    "\n",
    "print(mlp.score(Xtrain_std,y_enc))\n",
    "print(mlp.score(Xtest_std,yt_enc))\n",
    "\n",
    "y_pred=mlp.predict(X_test)\n",
    "print(y_pred)\n",
    "\n",
    "cm=confusion_matrix(yt_enc,y_pred)\n",
    "print(cm)\n",
    "\n",
    "from sklearn.metrics import classification_report\n",
    "cr = classification_report(yt_enc, y_pred)\n",
    "print(cr)"
   ]
  },
  {
   "cell_type": "code",
   "execution_count": null,
   "id": "7a07dfe7",
   "metadata": {},
   "outputs": [],
   "source": []
  }
 ],
 "metadata": {
  "kernelspec": {
   "display_name": "Python 3 (ipykernel)",
   "language": "python",
   "name": "python3"
  },
  "language_info": {
   "codemirror_mode": {
    "name": "ipython",
    "version": 3
   },
   "file_extension": ".py",
   "mimetype": "text/x-python",
   "name": "python",
   "nbconvert_exporter": "python",
   "pygments_lexer": "ipython3",
   "version": "3.9.7"
  }
 },
 "nbformat": 4,
 "nbformat_minor": 5
}
